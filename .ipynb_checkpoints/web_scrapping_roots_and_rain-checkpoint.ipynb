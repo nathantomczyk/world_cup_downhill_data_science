{
 "cells": [
  {
   "cell_type": "markdown",
   "id": "52d9f5b9",
   "metadata": {},
   "source": [
    "# Scraping race information from roots and rain for each year of Downhill world cup"
   ]
  },
  {
   "cell_type": "markdown",
   "id": "fe55dde1",
   "metadata": {},
   "source": [
    "This document works through the web scrapping of data from roots and rain for each downhill world cup"
   ]
  },
  {
   "cell_type": "code",
   "execution_count": 1,
   "id": "7268816f",
   "metadata": {},
   "outputs": [],
   "source": [
    "#loading libraries\n",
    "import re\n",
    "import pandas as pd\n",
    "from bs4 import BeautifulSoup # this module helps in web scrapping.\n",
    "import requests  # this module helps us to download a web page\n",
    "import numpy as np\n",
    "import traceback\n",
    "from fuzzywuzzy import process\n",
    "import fuzzywuzzy as fuzz"
   ]
  },
  {
   "cell_type": "markdown",
   "id": "386ba765",
   "metadata": {},
   "source": [
    "## Creating a list of the landing pages for the races from each year"
   ]
  },
  {
   "cell_type": "markdown",
   "id": "a2c97352",
   "metadata": {},
   "source": [
    "Some of the important metadata about the races is only presnt on these landing pages (or it is the only place I can find it) so we will use these to extract race locaitons and also the url for every race results page"
   ]
  },
  {
   "cell_type": "code",
   "execution_count": 2,
   "id": "063ad273",
   "metadata": {},
   "outputs": [],
   "source": [
    "years=list(range(1996,2023))\n",
    "url_list=['https://www.rootsandrain.com/event-list/filters/1995,dh/organisers21/']\n",
    "modify_url='https://www.rootsandrain.com/event-list/filters/1995,dh/organisers21/'\n",
    "for y in years:\n",
    "    new_url=modify_url.replace(str(y-1),str(y))\n",
    "    url_list.append(new_url)\n",
    "    modify_url=new_url\n",
    "   "
   ]
  },
  {
   "cell_type": "markdown",
   "id": "2bcf10a7",
   "metadata": {},
   "source": [
    "## Extracting data from each of these web pages"
   ]
  },
  {
   "cell_type": "markdown",
   "id": "fb3d6edb",
   "metadata": {},
   "source": [
    "Now that we have a list of the urls for each year of downhill racing we want to pull data, inluding the url for the individual race pages from each of these pages. To do this we will define a function to scrape this data, then we will iterate through the list of urls"
   ]
  },
  {
   "cell_type": "code",
   "execution_count": 3,
   "id": "b21a4ae4",
   "metadata": {},
   "outputs": [],
   "source": [
    "## this function scrapes race info and urls from the landing page for one year of UCI races\n",
    "def scrape_race_info(url):\n",
    "\n",
    "    one_year_races=pd.read_html(url)[0]\n",
    "    one_year_races.index=one_year_races['Event']\n",
    "    # this should contain the basic information for one yaer of DH races\n",
    "    one_year_races.head(5)\n",
    "\n",
    "    page_2  = requests.get(url).text \n",
    "    one_year_races['url']=\"\"\n",
    "\n",
    "\n",
    "    for race_name in one_year_races['Event']:\n",
    "        # this line is included because of an odly formatted masters world champs in 2021. \n",
    "        #I am not iterested in these data so excludign here\n",
    "        if str(race_name.lower()).find('masters') ==-1:\n",
    "            if (race_name.lower()).find('world champ') ==-1:\n",
    "                loc_race=str(page_2).find(race_name)\n",
    "                string_with_url=str(page_2)[loc_race:loc_race+250]\n",
    "                begin_index=string_with_url.index('href=')+6\n",
    "                end_index=string_with_url.index(\"/\\\">\")+1\n",
    "                new_url='https://www.rootsandrain.com'+string_with_url[begin_index:end_index]\n",
    "                one_year_races.loc[race_name,\"url\"]=new_url\n",
    "            else:\n",
    "                loc_race=str(page_2).find(race_name)\n",
    "                string_with_url=str(page_2)[loc_race-250:loc_race+2]\n",
    "                begin_index=string_with_url.index('href=')+6\n",
    "                end_index=string_with_url.index(\"/\\\">\")+1\n",
    "                new_url='https://www.rootsandrain.com'+string_with_url[begin_index:end_index]\n",
    "                one_year_races.loc[race_name,\"url\"]=new_url\n",
    "    \n",
    "    return(one_year_races)"
   ]
  },
  {
   "cell_type": "markdown",
   "id": "8aca67e3",
   "metadata": {},
   "source": [
    "### Interating through the list of urls we generated"
   ]
  },
  {
   "cell_type": "code",
   "execution_count": 4,
   "id": "9ed0fb82",
   "metadata": {},
   "outputs": [],
   "source": [
    "all_races=pd.DataFrame()\n",
    "for url in url_list:\n",
    "    all_races=pd.concat([all_races,scrape_race_info(url)],axis=0)"
   ]
  },
  {
   "cell_type": "markdown",
   "id": "46b84e89",
   "metadata": {},
   "source": [
    "how many races do we have?"
   ]
  },
  {
   "cell_type": "code",
   "execution_count": 5,
   "id": "665cdc1d",
   "metadata": {},
   "outputs": [
    {
     "data": {
      "text/plain": [
       "(244, 5)"
      ]
     },
     "execution_count": 5,
     "metadata": {},
     "output_type": "execute_result"
    }
   ],
   "source": [
    "all_races.shape"
   ]
  },
  {
   "cell_type": "markdown",
   "id": "33989367",
   "metadata": {},
   "source": [
    "Drop races without a url - these are from masters world champs which I am not interested in"
   ]
  },
  {
   "cell_type": "code",
   "execution_count": 6,
   "id": "6d86c1ac",
   "metadata": {},
   "outputs": [
    {
     "data": {
      "text/plain": [
       "(220, 5)"
      ]
     },
     "execution_count": 6,
     "metadata": {},
     "output_type": "execute_result"
    }
   ],
   "source": [
    "all_races['url'].replace('', np.nan, inplace=True)\n",
    "all_races.dropna(subset=['url'], inplace=True)\n",
    "all_races.shape"
   ]
  },
  {
   "cell_type": "markdown",
   "id": "ff0709e0",
   "metadata": {},
   "source": [
    "### pulling the country and track name from the venue"
   ]
  },
  {
   "cell_type": "markdown",
   "id": "f5995e64",
   "metadata": {},
   "source": [
    "The data on these pages has information inclduing the race venue, date, and country the race was in that we want to pull out and use later on."
   ]
  },
  {
   "cell_type": "code",
   "execution_count": 7,
   "id": "b18a6908",
   "metadata": {},
   "outputs": [],
   "source": [
    "expanded_venue_info=pd.DataFrame(all_races['Venue'].str.split(',', 3, expand=True))\n",
    "\n",
    "all_races['track_name']=expanded_venue_info[0]\n",
    "\n",
    "race_country=[]\n",
    "for i in range(220):\n",
    "        if expanded_venue_info.iloc[i,2] == None and expanded_venue_info.iloc[i,3] == None:\n",
    "            race_country.append(expanded_venue_info.iloc[i,1])\n",
    "        elif expanded_venue_info.iloc[i,2] != None and expanded_venue_info.iloc[i,3] == None:\n",
    "            race_country.append(expanded_venue_info.iloc[i,2])\n",
    "        else:\n",
    "            race_country.append(expanded_venue_info.iloc[i,3])\n",
    "all_races['race_country']=race_country"
   ]
  },
  {
   "cell_type": "code",
   "execution_count": 111,
   "id": "16c9d46a",
   "metadata": {},
   "outputs": [],
   "source": [
    "#all_races.to_csv('data/race_information.csv')  "
   ]
  },
  {
   "cell_type": "markdown",
   "id": "e18416e6",
   "metadata": {},
   "source": [
    "What does the dataset look like right now?"
   ]
  },
  {
   "cell_type": "code",
   "execution_count": 8,
   "id": "653d31b2",
   "metadata": {},
   "outputs": [
    {
     "data": {
      "text/html": [
       "<div>\n",
       "<style scoped>\n",
       "    .dataframe tbody tr th:only-of-type {\n",
       "        vertical-align: middle;\n",
       "    }\n",
       "\n",
       "    .dataframe tbody tr th {\n",
       "        vertical-align: top;\n",
       "    }\n",
       "\n",
       "    .dataframe thead th {\n",
       "        text-align: right;\n",
       "    }\n",
       "</style>\n",
       "<table border=\"1\" class=\"dataframe\">\n",
       "  <thead>\n",
       "    <tr style=\"text-align: right;\">\n",
       "      <th></th>\n",
       "      <th>Date⇩</th>\n",
       "      <th>Event</th>\n",
       "      <th>Venue</th>\n",
       "      <th>Competitors</th>\n",
       "      <th>url</th>\n",
       "      <th>track_name</th>\n",
       "      <th>race_country</th>\n",
       "    </tr>\n",
       "    <tr>\n",
       "      <th>Event</th>\n",
       "      <th></th>\n",
       "      <th></th>\n",
       "      <th></th>\n",
       "      <th></th>\n",
       "      <th></th>\n",
       "      <th></th>\n",
       "      <th></th>\n",
       "    </tr>\n",
       "  </thead>\n",
       "  <tbody>\n",
       "    <tr>\n",
       "      <th>UCI - DHI World Championships '95</th>\n",
       "      <td>23rd Sep 1995</td>\n",
       "      <td>UCI - DHI World Championships '95</td>\n",
       "      <td>Kirchzarten, Germany</td>\n",
       "      <td>240</td>\n",
       "      <td>https://www.rootsandrain.com/event1459/1995-se...</td>\n",
       "      <td>Kirchzarten</td>\n",
       "      <td>Germany</td>\n",
       "    </tr>\n",
       "    <tr>\n",
       "      <th>1995 Grundig UCI World Cup DH #6</th>\n",
       "      <td>1st Jan 1995</td>\n",
       "      <td>1995 Grundig UCI World Cup DH #6</td>\n",
       "      <td>Kaprun, Austria</td>\n",
       "      <td>-</td>\n",
       "      <td>https://www.rootsandrain.com/event9541/1995-ja...</td>\n",
       "      <td>Kaprun</td>\n",
       "      <td>Austria</td>\n",
       "    </tr>\n",
       "    <tr>\n",
       "      <th>1995 Grundig UCI World Cup DH #5</th>\n",
       "      <td>1st Jan 1995</td>\n",
       "      <td>1995 Grundig UCI World Cup DH #5</td>\n",
       "      <td>Big Bear Lake, CA, USA</td>\n",
       "      <td>-</td>\n",
       "      <td>https://www.rootsandrain.com/event9540/1995-ja...</td>\n",
       "      <td>Big Bear Lake</td>\n",
       "      <td>USA</td>\n",
       "    </tr>\n",
       "    <tr>\n",
       "      <th>1995 Grundig UCI World Cup DH #4</th>\n",
       "      <td>1st Jan 1995</td>\n",
       "      <td>1995 Grundig UCI World Cup DH #4</td>\n",
       "      <td>Mont-Sainte-Anne, QC, Canada</td>\n",
       "      <td>-</td>\n",
       "      <td>https://www.rootsandrain.com/event9539/1995-ja...</td>\n",
       "      <td>Mont-Sainte-Anne</td>\n",
       "      <td>Canada</td>\n",
       "    </tr>\n",
       "    <tr>\n",
       "      <th>1995 Grundig UCI World Cup DH #3</th>\n",
       "      <td>1st Jan 1995</td>\n",
       "      <td>1995 Grundig UCI World Cup DH #3</td>\n",
       "      <td>Mt Snow, VT, USA</td>\n",
       "      <td>-</td>\n",
       "      <td>https://www.rootsandrain.com/event9538/1995-ja...</td>\n",
       "      <td>Mt Snow</td>\n",
       "      <td>USA</td>\n",
       "    </tr>\n",
       "  </tbody>\n",
       "</table>\n",
       "</div>"
      ],
      "text/plain": [
       "                                           Date⇩  \\\n",
       "Event                                              \n",
       "UCI - DHI World Championships '95  23rd Sep 1995   \n",
       "1995 Grundig UCI World Cup DH #6    1st Jan 1995   \n",
       "1995 Grundig UCI World Cup DH #5    1st Jan 1995   \n",
       "1995 Grundig UCI World Cup DH #4    1st Jan 1995   \n",
       "1995 Grundig UCI World Cup DH #3    1st Jan 1995   \n",
       "\n",
       "                                                               Event  \\\n",
       "Event                                                                  \n",
       "UCI - DHI World Championships '95  UCI - DHI World Championships '95   \n",
       "1995 Grundig UCI World Cup DH #6    1995 Grundig UCI World Cup DH #6   \n",
       "1995 Grundig UCI World Cup DH #5    1995 Grundig UCI World Cup DH #5   \n",
       "1995 Grundig UCI World Cup DH #4    1995 Grundig UCI World Cup DH #4   \n",
       "1995 Grundig UCI World Cup DH #3    1995 Grundig UCI World Cup DH #3   \n",
       "\n",
       "                                                          Venue Competitors  \\\n",
       "Event                                                                         \n",
       "UCI - DHI World Championships '95          Kirchzarten, Germany         240   \n",
       "1995 Grundig UCI World Cup DH #6                Kaprun, Austria           -   \n",
       "1995 Grundig UCI World Cup DH #5         Big Bear Lake, CA, USA           -   \n",
       "1995 Grundig UCI World Cup DH #4   Mont-Sainte-Anne, QC, Canada           -   \n",
       "1995 Grundig UCI World Cup DH #3               Mt Snow, VT, USA           -   \n",
       "\n",
       "                                                                                 url  \\\n",
       "Event                                                                                  \n",
       "UCI - DHI World Championships '95  https://www.rootsandrain.com/event1459/1995-se...   \n",
       "1995 Grundig UCI World Cup DH #6   https://www.rootsandrain.com/event9541/1995-ja...   \n",
       "1995 Grundig UCI World Cup DH #5   https://www.rootsandrain.com/event9540/1995-ja...   \n",
       "1995 Grundig UCI World Cup DH #4   https://www.rootsandrain.com/event9539/1995-ja...   \n",
       "1995 Grundig UCI World Cup DH #3   https://www.rootsandrain.com/event9538/1995-ja...   \n",
       "\n",
       "                                         track_name race_country  \n",
       "Event                                                             \n",
       "UCI - DHI World Championships '95       Kirchzarten      Germany  \n",
       "1995 Grundig UCI World Cup DH #6             Kaprun      Austria  \n",
       "1995 Grundig UCI World Cup DH #5      Big Bear Lake          USA  \n",
       "1995 Grundig UCI World Cup DH #4   Mont-Sainte-Anne       Canada  \n",
       "1995 Grundig UCI World Cup DH #3            Mt Snow          USA  "
      ]
     },
     "execution_count": 8,
     "metadata": {},
     "output_type": "execute_result"
    }
   ],
   "source": [
    "all_races.head()"
   ]
  },
  {
   "cell_type": "markdown",
   "id": "9c545e8e",
   "metadata": {},
   "source": [
    "## Now we are going to use the urls for each race to access the results"
   ]
  },
  {
   "cell_type": "markdown",
   "id": "627e9d83",
   "metadata": {},
   "source": [
    "Frist we need to define a couple of funcitons that were are going to use too pull out the data. First is a function to determine the country a rider is from. This information is on the webpage for the race results as is a part of the html code used to display the litte flags. The second function take the url of a race result, and the track name, race country and race date. Then it accesses the webpage for the race result and scapres the the data that we want. "
   ]
  },
  {
   "cell_type": "code",
   "execution_count": 9,
   "id": "f05610cf",
   "metadata": {},
   "outputs": [],
   "source": [
    "## this code is struggling with about 8 percent of the riders where it can't parse their names close enough to find a match\n",
    "## adding code for when this fails to try fuzzy matching which is more computationally intensive\n",
    "countries=pd.read_csv('data/nationalities.csv') \n",
    "\n",
    "def country_of_origin(rider_name,soup):\n",
    "    name_parts=rider_name.split()\n",
    "    if len(name_parts)>=3 and name_parts[2]!=\"(elt)\":\n",
    "        reverse_name=name_parts[-2]+\" \"+name_parts[-1]+\" \"+name_parts[0]\n",
    "    else:    \n",
    "        reverse_name=name_parts[1]+\" \"+name_parts[0]\n",
    "    if str(soup).find(reverse_name)==-1:\n",
    "        split_soup=str(soup).split('<td data-sb')\n",
    "        fuzzy_match_of_name=process.extract(reverse_name,split_soup,limit=1)\n",
    "        for nationality in countries['nationality']:\n",
    "            if str(fuzzy_match_of_name).find(nationality)>0:\n",
    "                country=nationality\n",
    "    else:\n",
    "        loc_name=str(soup).find(reverse_name)\n",
    "        string_with_country=str(soup)[loc_name:loc_name+150]\n",
    "        string_with_country_no_punc=re.sub(r'[^\\w\\s]', ' ', string_with_country).split()\n",
    "        index=string_with_country_no_punc.index(\"title\")+1\n",
    "        country=string_with_country_no_punc[index]\n",
    "        if string_with_country_no_punc[index+1]!=\"click\":\n",
    "            country=country+\" \"+string_with_country_no_punc[index+1]\n",
    "    ## The first part looks for exact matches of the riders name in the html code. If this fails \n",
    "    ## then we try looking for a fuzzy match of the rider name, and then looking for a country in the text string\n",
    "    ## the list of countries was generated from earily runs where we didn't get all of the riders. \n",
    "    return(country)\n",
    "\n",
    "def get_race_results(url,track_name,race_country,date):\n",
    "\n",
    "    data  = requests.get(url).text \n",
    "\n",
    "    soup = BeautifulSoup(data,\"html.parser\")\n",
    "  \n",
    "    tables = pd.read_html(url)\n",
    "    \n",
    "    ## confirm table 1 is elite men\n",
    "    table_soup=soup.find_all('table')\n",
    "    if str(table_soup[0])[0:100].find('c-elitem') != -1:\n",
    "        elite_men=tables[0]\n",
    "        elite_men['sex']='Men'\n",
    "        together=elite_men\n",
    "    # check if table 2 is elite women\n",
    "    if len(tables)==2:\n",
    "        if str(table_soup[1])[0:100].find('c-elitef') != -1:\n",
    "                elite_women=tables[1]\n",
    "                elite_women['sex']='Women'\n",
    "                together=pd.concat([elite_men,elite_women],axis=0)\n",
    "    # check if table 3 is elite women\n",
    "    if len(tables)>2:\n",
    "        if str(table_soup[2])[0:100].find('c-elitef') != -1:\n",
    "                    elite_women=tables[2]\n",
    "                    elite_women['sex']='Women'\n",
    "                    together=pd.concat([elite_men,elite_women],axis=0)\n",
    "    \n",
    "    \n",
    "\n",
    "    \n",
    "    together['rider_country']=\"\"\n",
    "    together.index=together['Name']\n",
    "    together['Date']=date\n",
    "    together['track_name']=track_name\n",
    "    together['race_country']=race_country\n",
    "\n",
    "\n",
    "    i=0\n",
    "    for rider in together['Name']:\n",
    "        try:\n",
    "            together.loc[rider,'rider_country']=country_of_origin(rider,soup)\n",
    "        except:\n",
    "           print('could not find match for name: rider')\n",
    "    \n",
    "    return(together[['Name','Run 1','sex','rider_country','race_country','Date',\"track_name\"]])"
   ]
  },
  {
   "cell_type": "markdown",
   "id": "4f0bbf36",
   "metadata": {},
   "source": [
    "Now we use these functions that we defined to work through every row of the all_races data, access the url and extract the data that we want. "
   ]
  },
  {
   "cell_type": "code",
   "execution_count": 10,
   "id": "553e37a8",
   "metadata": {},
   "outputs": [
    {
     "name": "stdout",
     "output_type": "stream",
     "text": [
      "could not find match for name: rider\n",
      "SUCCESS Race at Kirchzarten on 23rd Sep 1995\n",
      "PROBLEM: Race at Kaprun on 1st Jan 1995\n"
     ]
    },
    {
     "name": "stderr",
     "output_type": "stream",
     "text": [
      "Traceback (most recent call last):\n",
      "  File \"C:\\Users\\nt78066\\AppData\\Local\\Temp\\ipykernel_11596\\2198857620.py\", line 6, in <module>\n",
      "    one_race=get_race_results(all_races['url'][i],all_races['track_name'][i],all_races['race_country'][i], all_races['Date⇩'][i])\n",
      "  File \"C:\\Users\\nt78066\\AppData\\Local\\Temp\\ipykernel_11596\\590882901.py\", line 36, in get_race_results\n",
      "    tables = pd.read_html(url)\n",
      "  File \"C:\\Users\\nt78066\\anaconda3\\lib\\site-packages\\pandas\\util\\_decorators.py\", line 311, in wrapper\n",
      "    return func(*args, **kwargs)\n",
      "  File \"C:\\Users\\nt78066\\anaconda3\\lib\\site-packages\\pandas\\io\\html.py\", line 1113, in read_html\n",
      "    return _parse(\n",
      "  File \"C:\\Users\\nt78066\\anaconda3\\lib\\site-packages\\pandas\\io\\html.py\", line 939, in _parse\n",
      "    raise retained\n",
      "  File \"C:\\Users\\nt78066\\anaconda3\\lib\\site-packages\\pandas\\io\\html.py\", line 919, in _parse\n",
      "    tables = p.parse_tables()\n",
      "  File \"C:\\Users\\nt78066\\anaconda3\\lib\\site-packages\\pandas\\io\\html.py\", line 239, in parse_tables\n",
      "    tables = self._parse_tables(self._build_doc(), self.match, self.attrs)\n",
      "  File \"C:\\Users\\nt78066\\anaconda3\\lib\\site-packages\\pandas\\io\\html.py\", line 569, in _parse_tables\n",
      "    raise ValueError(\"No tables found\")\n",
      "ValueError: No tables found\n"
     ]
    },
    {
     "name": "stdout",
     "output_type": "stream",
     "text": [
      "PROBLEM: Race at Big Bear Lake on 1st Jan 1995\n"
     ]
    },
    {
     "name": "stderr",
     "output_type": "stream",
     "text": [
      "Traceback (most recent call last):\n",
      "  File \"C:\\Users\\nt78066\\AppData\\Local\\Temp\\ipykernel_11596\\2198857620.py\", line 6, in <module>\n",
      "    one_race=get_race_results(all_races['url'][i],all_races['track_name'][i],all_races['race_country'][i], all_races['Date⇩'][i])\n",
      "  File \"C:\\Users\\nt78066\\AppData\\Local\\Temp\\ipykernel_11596\\590882901.py\", line 36, in get_race_results\n",
      "    tables = pd.read_html(url)\n",
      "  File \"C:\\Users\\nt78066\\anaconda3\\lib\\site-packages\\pandas\\util\\_decorators.py\", line 311, in wrapper\n",
      "    return func(*args, **kwargs)\n",
      "  File \"C:\\Users\\nt78066\\anaconda3\\lib\\site-packages\\pandas\\io\\html.py\", line 1113, in read_html\n",
      "    return _parse(\n",
      "  File \"C:\\Users\\nt78066\\anaconda3\\lib\\site-packages\\pandas\\io\\html.py\", line 939, in _parse\n",
      "    raise retained\n",
      "  File \"C:\\Users\\nt78066\\anaconda3\\lib\\site-packages\\pandas\\io\\html.py\", line 919, in _parse\n",
      "    tables = p.parse_tables()\n",
      "  File \"C:\\Users\\nt78066\\anaconda3\\lib\\site-packages\\pandas\\io\\html.py\", line 239, in parse_tables\n",
      "    tables = self._parse_tables(self._build_doc(), self.match, self.attrs)\n",
      "  File \"C:\\Users\\nt78066\\anaconda3\\lib\\site-packages\\pandas\\io\\html.py\", line 569, in _parse_tables\n",
      "    raise ValueError(\"No tables found\")\n",
      "ValueError: No tables found\n"
     ]
    },
    {
     "name": "stdout",
     "output_type": "stream",
     "text": [
      "PROBLEM: Race at Mont-Sainte-Anne on 1st Jan 1995\n"
     ]
    },
    {
     "name": "stderr",
     "output_type": "stream",
     "text": [
      "Traceback (most recent call last):\n",
      "  File \"C:\\Users\\nt78066\\AppData\\Local\\Temp\\ipykernel_11596\\2198857620.py\", line 6, in <module>\n",
      "    one_race=get_race_results(all_races['url'][i],all_races['track_name'][i],all_races['race_country'][i], all_races['Date⇩'][i])\n",
      "  File \"C:\\Users\\nt78066\\AppData\\Local\\Temp\\ipykernel_11596\\590882901.py\", line 36, in get_race_results\n",
      "    tables = pd.read_html(url)\n",
      "  File \"C:\\Users\\nt78066\\anaconda3\\lib\\site-packages\\pandas\\util\\_decorators.py\", line 311, in wrapper\n",
      "    return func(*args, **kwargs)\n",
      "  File \"C:\\Users\\nt78066\\anaconda3\\lib\\site-packages\\pandas\\io\\html.py\", line 1113, in read_html\n",
      "    return _parse(\n",
      "  File \"C:\\Users\\nt78066\\anaconda3\\lib\\site-packages\\pandas\\io\\html.py\", line 939, in _parse\n",
      "    raise retained\n",
      "  File \"C:\\Users\\nt78066\\anaconda3\\lib\\site-packages\\pandas\\io\\html.py\", line 919, in _parse\n",
      "    tables = p.parse_tables()\n",
      "  File \"C:\\Users\\nt78066\\anaconda3\\lib\\site-packages\\pandas\\io\\html.py\", line 239, in parse_tables\n",
      "    tables = self._parse_tables(self._build_doc(), self.match, self.attrs)\n",
      "  File \"C:\\Users\\nt78066\\anaconda3\\lib\\site-packages\\pandas\\io\\html.py\", line 569, in _parse_tables\n",
      "    raise ValueError(\"No tables found\")\n",
      "ValueError: No tables found\n"
     ]
    },
    {
     "name": "stdout",
     "output_type": "stream",
     "text": [
      "PROBLEM: Race at Mt Snow on 1st Jan 1995\n"
     ]
    },
    {
     "name": "stderr",
     "output_type": "stream",
     "text": [
      "Traceback (most recent call last):\n",
      "  File \"C:\\Users\\nt78066\\AppData\\Local\\Temp\\ipykernel_11596\\2198857620.py\", line 6, in <module>\n",
      "    one_race=get_race_results(all_races['url'][i],all_races['track_name'][i],all_races['race_country'][i], all_races['Date⇩'][i])\n",
      "  File \"C:\\Users\\nt78066\\AppData\\Local\\Temp\\ipykernel_11596\\590882901.py\", line 36, in get_race_results\n",
      "    tables = pd.read_html(url)\n",
      "  File \"C:\\Users\\nt78066\\anaconda3\\lib\\site-packages\\pandas\\util\\_decorators.py\", line 311, in wrapper\n",
      "    return func(*args, **kwargs)\n",
      "  File \"C:\\Users\\nt78066\\anaconda3\\lib\\site-packages\\pandas\\io\\html.py\", line 1113, in read_html\n",
      "    return _parse(\n",
      "  File \"C:\\Users\\nt78066\\anaconda3\\lib\\site-packages\\pandas\\io\\html.py\", line 939, in _parse\n",
      "    raise retained\n",
      "  File \"C:\\Users\\nt78066\\anaconda3\\lib\\site-packages\\pandas\\io\\html.py\", line 919, in _parse\n",
      "    tables = p.parse_tables()\n",
      "  File \"C:\\Users\\nt78066\\anaconda3\\lib\\site-packages\\pandas\\io\\html.py\", line 239, in parse_tables\n",
      "    tables = self._parse_tables(self._build_doc(), self.match, self.attrs)\n",
      "  File \"C:\\Users\\nt78066\\anaconda3\\lib\\site-packages\\pandas\\io\\html.py\", line 569, in _parse_tables\n",
      "    raise ValueError(\"No tables found\")\n",
      "ValueError: No tables found\n"
     ]
    },
    {
     "name": "stdout",
     "output_type": "stream",
     "text": [
      "PROBLEM: Race at Åre on 1st Jan 1995\n"
     ]
    },
    {
     "name": "stderr",
     "output_type": "stream",
     "text": [
      "Traceback (most recent call last):\n",
      "  File \"C:\\Users\\nt78066\\AppData\\Local\\Temp\\ipykernel_11596\\2198857620.py\", line 6, in <module>\n",
      "    one_race=get_race_results(all_races['url'][i],all_races['track_name'][i],all_races['race_country'][i], all_races['Date⇩'][i])\n",
      "  File \"C:\\Users\\nt78066\\AppData\\Local\\Temp\\ipykernel_11596\\590882901.py\", line 36, in get_race_results\n",
      "    tables = pd.read_html(url)\n",
      "  File \"C:\\Users\\nt78066\\anaconda3\\lib\\site-packages\\pandas\\util\\_decorators.py\", line 311, in wrapper\n",
      "    return func(*args, **kwargs)\n",
      "  File \"C:\\Users\\nt78066\\anaconda3\\lib\\site-packages\\pandas\\io\\html.py\", line 1113, in read_html\n",
      "    return _parse(\n",
      "  File \"C:\\Users\\nt78066\\anaconda3\\lib\\site-packages\\pandas\\io\\html.py\", line 939, in _parse\n",
      "    raise retained\n",
      "  File \"C:\\Users\\nt78066\\anaconda3\\lib\\site-packages\\pandas\\io\\html.py\", line 919, in _parse\n",
      "    tables = p.parse_tables()\n",
      "  File \"C:\\Users\\nt78066\\anaconda3\\lib\\site-packages\\pandas\\io\\html.py\", line 239, in parse_tables\n",
      "    tables = self._parse_tables(self._build_doc(), self.match, self.attrs)\n",
      "  File \"C:\\Users\\nt78066\\anaconda3\\lib\\site-packages\\pandas\\io\\html.py\", line 569, in _parse_tables\n",
      "    raise ValueError(\"No tables found\")\n",
      "ValueError: No tables found\n"
     ]
    },
    {
     "name": "stdout",
     "output_type": "stream",
     "text": [
      "PROBLEM: Race at Cap d'Ail on 1st Jan 1995\n"
     ]
    },
    {
     "name": "stderr",
     "output_type": "stream",
     "text": [
      "Traceback (most recent call last):\n",
      "  File \"C:\\Users\\nt78066\\AppData\\Local\\Temp\\ipykernel_11596\\2198857620.py\", line 6, in <module>\n",
      "    one_race=get_race_results(all_races['url'][i],all_races['track_name'][i],all_races['race_country'][i], all_races['Date⇩'][i])\n",
      "  File \"C:\\Users\\nt78066\\AppData\\Local\\Temp\\ipykernel_11596\\590882901.py\", line 36, in get_race_results\n",
      "    tables = pd.read_html(url)\n",
      "  File \"C:\\Users\\nt78066\\anaconda3\\lib\\site-packages\\pandas\\util\\_decorators.py\", line 311, in wrapper\n",
      "    return func(*args, **kwargs)\n",
      "  File \"C:\\Users\\nt78066\\anaconda3\\lib\\site-packages\\pandas\\io\\html.py\", line 1113, in read_html\n",
      "    return _parse(\n",
      "  File \"C:\\Users\\nt78066\\anaconda3\\lib\\site-packages\\pandas\\io\\html.py\", line 939, in _parse\n",
      "    raise retained\n",
      "  File \"C:\\Users\\nt78066\\anaconda3\\lib\\site-packages\\pandas\\io\\html.py\", line 919, in _parse\n",
      "    tables = p.parse_tables()\n",
      "  File \"C:\\Users\\nt78066\\anaconda3\\lib\\site-packages\\pandas\\io\\html.py\", line 239, in parse_tables\n",
      "    tables = self._parse_tables(self._build_doc(), self.match, self.attrs)\n",
      "  File \"C:\\Users\\nt78066\\anaconda3\\lib\\site-packages\\pandas\\io\\html.py\", line 569, in _parse_tables\n",
      "    raise ValueError(\"No tables found\")\n",
      "ValueError: No tables found\n"
     ]
    },
    {
     "name": "stdout",
     "output_type": "stream",
     "text": [
      "SUCCESS Race at Cairns on 22nd Sep 1996\n",
      "SUCCESS Race at Hawaii on 7th Sep 1996\n",
      "SUCCESS Race at Kaprun on 15th Aug 1996\n",
      "SUCCESS Race at Les Gets on 10th Aug 1996\n",
      "SUCCESS Race at Mont-Sainte-Anne on 15th Jun 1996\n",
      "SUCCESS Race at Nevegal on 19th May 1996\n",
      "SUCCESS Race at Panticosa on 12th May 1996\n",
      "SUCCESS Race at Château d'Oex on 21st Sep 1997\n",
      "SUCCESS Race at Kaprun on 15th Aug 1997\n",
      "SUCCESS Race at Massanutten on 6th Jul 1997\n",
      "SUCCESS Race at Mont-Sainte-Anne on 29th Jun 1997\n",
      "could not find match for name: rider\n",
      "SUCCESS Race at Sierra Nevada on 1st Jun 1997\n",
      "SUCCESS Race at Nevegal on 25th May 1997\n",
      "SUCCESS Race at Stellenbosch on 18th May 1997\n",
      "SUCCESS Race at Mont-Sainte-Anne on 20th Sep 1998\n",
      "SUCCESS Race at Arai Mountain on 30th Aug 1998\n",
      "SUCCESS Race at Kaprun on 16th Aug 1998\n",
      "SUCCESS Race at Sierra Nevada on 9th Aug 1998\n",
      "SUCCESS Race at Snoqualmie Pass on 28th Jul 1998\n",
      "could not find match for name: rider\n",
      "SUCCESS Race at Big Bear Lake on 21st Jun 1998\n",
      "could not find match for name: rider\n",
      "SUCCESS Race at Les Gets on 31st May 1998\n",
      "SUCCESS Race at Nevegal on 24th May 1998\n",
      "SUCCESS Race at Stellenbosch on 5th Apr 1998\n",
      "SUCCESS Race at Åre on 18th Sep 1999\n",
      "SUCCESS Race at Kaprun on 15th Aug 1999\n",
      "SUCCESS Race at Bromont on 8th Aug 1999\n",
      "SUCCESS Race at Mont-Sainte-Anne on 1st Aug 1999\n",
      "SUCCESS Race at Squaw Valley on 11th Jul 1999\n",
      "SUCCESS Race at Big Bear Lake on 27th Jun 1999\n",
      "SUCCESS Race at Nevegal on 6th Jun 1999\n",
      "SUCCESS Race at Maribor on 30th May 1999\n",
      "SUCCESS Race at Les Gets on 23rd May 1999\n",
      "SUCCESS Race at Leysin on 27th Aug 2000\n",
      "SUCCESS Race at Kaprun on 13th Aug 2000\n",
      "SUCCESS Race at Arai Mountain on 23rd Jul 2000\n",
      "could not find match for name: rider\n",
      "could not find match for name: rider\n",
      "could not find match for name: rider\n",
      "SUCCESS Race at Vail on 16th Jul 2000\n",
      "SUCCESS Race at Mont-Sainte-Anne on 2nd Jul 2000\n",
      "SUCCESS Race at Sierra Nevada on 11th Jun 2000\n",
      "could not find match for name: rider\n",
      "SUCCESS Race at Maribor on 3rd Jun 2000\n",
      "SUCCESS Race at Cortina d'Ampezzo on 28th May 2000\n",
      "SUCCESS Race at Les Gets on 21st May 2000\n",
      "could not find match for name: rider\n",
      "SUCCESS Race at Vail on 16th Sep 2001\n",
      "SUCCESS Race at Mont-Sainte-Anne on 26th Aug 2001\n",
      "SUCCESS Race at Kaprun on 12th Aug 2001\n",
      "SUCCESS Race at Leysin on 5th Aug 2001\n",
      "SUCCESS Race at Arai Mountain on 29th Jul 2001\n",
      "SUCCESS Race at Durango on 15th Jul 2001\n",
      "SUCCESS Race at Grouse Mountain on 8th Jul 2001\n",
      "SUCCESS Race at Vars on 17th Jun 2001\n",
      "SUCCESS Race at Maribor on 10th Jun 2001\n",
      "could not find match for name: rider\n",
      "SUCCESS Race at Les Gets on 8th Sep 2002\n",
      "SUCCESS Race at Kaprun on 1st Sep 2002\n",
      "SUCCESS Race at Telluride on 14th Jul 2002\n",
      "PROBLEM: Race at Grouse Mountain on 7th Jul 2002\n"
     ]
    },
    {
     "name": "stderr",
     "output_type": "stream",
     "text": [
      "Traceback (most recent call last):\n",
      "  File \"C:\\Users\\nt78066\\AppData\\Local\\Temp\\ipykernel_11596\\2198857620.py\", line 6, in <module>\n",
      "    one_race=get_race_results(all_races['url'][i],all_races['track_name'][i],all_races['race_country'][i], all_races['Date⇩'][i])\n",
      "  File \"C:\\Users\\nt78066\\AppData\\Local\\Temp\\ipykernel_11596\\590882901.py\", line 36, in get_race_results\n",
      "    tables = pd.read_html(url)\n",
      "  File \"C:\\Users\\nt78066\\anaconda3\\lib\\site-packages\\pandas\\util\\_decorators.py\", line 311, in wrapper\n",
      "    return func(*args, **kwargs)\n",
      "  File \"C:\\Users\\nt78066\\anaconda3\\lib\\site-packages\\pandas\\io\\html.py\", line 1113, in read_html\n",
      "    return _parse(\n",
      "  File \"C:\\Users\\nt78066\\anaconda3\\lib\\site-packages\\pandas\\io\\html.py\", line 939, in _parse\n",
      "    raise retained\n",
      "  File \"C:\\Users\\nt78066\\anaconda3\\lib\\site-packages\\pandas\\io\\html.py\", line 919, in _parse\n",
      "    tables = p.parse_tables()\n",
      "  File \"C:\\Users\\nt78066\\anaconda3\\lib\\site-packages\\pandas\\io\\html.py\", line 239, in parse_tables\n",
      "    tables = self._parse_tables(self._build_doc(), self.match, self.attrs)\n",
      "  File \"C:\\Users\\nt78066\\anaconda3\\lib\\site-packages\\pandas\\io\\html.py\", line 569, in _parse_tables\n",
      "    raise ValueError(\"No tables found\")\n",
      "ValueError: No tables found\n"
     ]
    },
    {
     "name": "stdout",
     "output_type": "stream",
     "text": [
      "SUCCESS Race at Mont-Sainte-Anne on 30th Jun 2002\n",
      "SUCCESS Race at Maribor on 9th Jun 2002\n",
      "SUCCESS Race at Fort William on 2nd Jun 2002\n",
      "could not find match for name: rider\n",
      "SUCCESS Race at Kaprun on 14th Sep 2003\n",
      "SUCCESS Race at Lugano on 7th Sep 2003\n",
      "SUCCESS Race at Grouse Mountain on 13th Jul 2003\n",
      "PROBLEM: Race at Telluride on 5th Jul 2003\n"
     ]
    },
    {
     "name": "stderr",
     "output_type": "stream",
     "text": [
      "Traceback (most recent call last):\n",
      "  File \"C:\\Users\\nt78066\\AppData\\Local\\Temp\\ipykernel_11596\\2198857620.py\", line 6, in <module>\n",
      "    one_race=get_race_results(all_races['url'][i],all_races['track_name'][i],all_races['race_country'][i], all_races['Date⇩'][i])\n",
      "  File \"C:\\Users\\nt78066\\AppData\\Local\\Temp\\ipykernel_11596\\590882901.py\", line 36, in get_race_results\n",
      "    tables = pd.read_html(url)\n",
      "  File \"C:\\Users\\nt78066\\anaconda3\\lib\\site-packages\\pandas\\util\\_decorators.py\", line 311, in wrapper\n",
      "    return func(*args, **kwargs)\n",
      "  File \"C:\\Users\\nt78066\\anaconda3\\lib\\site-packages\\pandas\\io\\html.py\", line 1113, in read_html\n",
      "    return _parse(\n",
      "  File \"C:\\Users\\nt78066\\anaconda3\\lib\\site-packages\\pandas\\io\\html.py\", line 939, in _parse\n",
      "    raise retained\n",
      "  File \"C:\\Users\\nt78066\\anaconda3\\lib\\site-packages\\pandas\\io\\html.py\", line 919, in _parse\n",
      "    tables = p.parse_tables()\n",
      "  File \"C:\\Users\\nt78066\\anaconda3\\lib\\site-packages\\pandas\\io\\html.py\", line 239, in parse_tables\n",
      "    tables = self._parse_tables(self._build_doc(), self.match, self.attrs)\n",
      "  File \"C:\\Users\\nt78066\\anaconda3\\lib\\site-packages\\pandas\\io\\html.py\", line 569, in _parse_tables\n",
      "    raise ValueError(\"No tables found\")\n",
      "ValueError: No tables found\n"
     ]
    },
    {
     "name": "stdout",
     "output_type": "stream",
     "text": [
      "SUCCESS Race at Mont-Sainte-Anne on 29th Jun 2003\n",
      "could not find match for name: rider\n",
      "could not find match for name: rider\n",
      "SUCCESS Race at Alpe d'Huez on 8th Jun 2003\n",
      "could not find match for name: rider\n",
      "could not find match for name: rider\n",
      "SUCCESS Race at Fort William on 1st Jun 2003\n",
      "could not find match for name: rider\n",
      "SUCCESS Race at Livigno on 19th Sep 2004\n",
      "SUCCESS Race at Les Gets on 11th Sep 2004\n",
      "could not find match for name: rider\n",
      "SUCCESS Race at Calgary on 4th Jul 2004\n",
      "SUCCESS Race at Mont-Sainte-Anne on 27th Jun 2004\n",
      "could not find match for name: rider\n",
      "SUCCESS Race at Schladming on 20th Jun 2004\n",
      "could not find match for name: rider\n",
      "SUCCESS Race at Les Deux Alpes on 13th Jun 2004\n",
      "could not find match for name: rider\n",
      "could not find match for name: rider\n",
      "could not find match for name: rider\n",
      "SUCCESS Race at Fort William on 6th Jun 2004\n",
      "could not find match for name: rider\n",
      "SUCCESS Race at Fort William on 11th Sep 2005\n",
      "SUCCESS Race at Livigno on 3rd Sep 2005\n",
      "SUCCESS Race at Pila on 21st Aug 2005\n",
      "could not find match for name: rider\n",
      "SUCCESS Race at Angel Fire on 10th Jul 2005\n",
      "SUCCESS Race at Balneário Camboriú on 3rd Jul 2005\n",
      "SUCCESS Race at Mont-Sainte-Anne on 26th Jun 2005\n",
      "SUCCESS Race at Schladming on 12th Jun 2005\n",
      "could not find match for name: rider\n",
      "SUCCESS Race at Willingen on 5th Jun 2005\n",
      "could not find match for name: rider\n",
      "SUCCESS Race at Vigo on 1st May 2005\n",
      "could not find match for name: rider\n",
      "SUCCESS Race at Schladming on 10th Sep 2006\n",
      "SUCCESS Race at Rotorua on 26th Aug 2006\n",
      "could not find match for name: rider\n",
      "SUCCESS Race at Balneário Camboriú on 2nd Jul 2006\n",
      "SUCCESS Race at Mont-Sainte-Anne on 25th Jun 2006\n",
      "SUCCESS Race at Willingen on 4th Jun 2006\n",
      "could not find match for name: rider\n",
      "could not find match for name: rider\n",
      "could not find match for name: rider\n",
      "SUCCESS Race at Fort William on 28th May 2006\n",
      "SUCCESS Race at Vigo on 7th May 2006\n",
      "could not find match for name: rider\n",
      "could not find match for name: rider\n",
      "SUCCESS Race at Maribor on 16th Sep 2007\n",
      "SUCCESS Race at Fort William on 9th Sep 2007\n",
      "SUCCESS Race at Schladming on 8th Jul 2007\n",
      "SUCCESS Race at Mont-Sainte-Anne on 24th Jun 2007\n",
      "could not find match for name: rider\n",
      "SUCCESS Race at Champéry on 10th Jun 2007\n",
      "could not find match for name: rider\n",
      "SUCCESS Race at Vigo on 13th May 2007\n",
      "could not find match for name: rider\n",
      "could not find match for name: rider\n",
      "could not find match for name: rider\n",
      "SUCCESS Race at Schladming on 14th Sep 2008\n",
      "could not find match for name: rider\n",
      "SUCCESS Race at Stromlo on 31st Aug 2008\n",
      "SUCCESS Race at Bromont on 3rd Aug 2008\n",
      "could not find match for name: rider\n",
      "could not find match for name: rider\n",
      "SUCCESS Race at Mont-Sainte-Anne on 27th Jul 2008\n",
      "SUCCESS Race at Val di Sole on 21st Jun 2008\n",
      "could not find match for name: rider\n",
      "could not find match for name: rider\n",
      "SUCCESS Race at Fort William on 8th Jun 2008\n",
      "could not find match for name: rider\n",
      "could not find match for name: rider\n",
      "SUCCESS Race at Vallnord on 1st Jun 2008\n",
      "could not find match for name: rider\n",
      "could not find match for name: rider\n",
      "could not find match for name: rider\n",
      "could not find match for name: rider\n",
      "SUCCESS Race at Maribor on 11th May 2008\n",
      "could not find match for name: rider\n",
      "SUCCESS Race at Schladming on 20th Sep 2009\n",
      "could not find match for name: rider\n",
      "SUCCESS Race at Stromlo on 6th Sep 2009\n",
      "could not find match for name: rider\n",
      "SUCCESS Race at Bromont on 2nd Aug 2009\n",
      "could not find match for name: rider\n",
      "SUCCESS Race at Mont-Sainte-Anne on 26th Jul 2009\n",
      "could not find match for name: rider\n",
      "could not find match for name: rider\n",
      "SUCCESS Race at Maribor on 21st Jun 2009\n",
      "could not find match for name: rider\n",
      "SUCCESS Race at Fort William on 7th Jun 2009\n",
      "could not find match for name: rider\n",
      "SUCCESS Race at Vallnord on 17th May 2009\n",
      "could not find match for name: rider\n",
      "SUCCESS Race at La Bresse on 10th May 2009\n",
      "could not find match for name: rider\n",
      "could not find match for name: rider\n",
      "SUCCESS Race at Pietermaritzburg on 12th Apr 2009\n",
      "SUCCESS Race at Mont-Sainte-Anne on 5th Sep 2010\n",
      "SUCCESS Race at Windham on 29th Aug 2010\n",
      "SUCCESS Race at Val di Sole on 1st Aug 2010\n",
      "could not find match for name: rider\n",
      "SUCCESS Race at Champéry on 25th Jul 2010\n",
      "SUCCESS Race at Leogang on 20th Jun 2010\n",
      "could not find match for name: rider\n",
      "could not find match for name: rider\n",
      "SUCCESS Race at Fort William on 6th Jun 2010\n",
      "SUCCESS Race at Maribor on 16th May 2010\n",
      "SUCCESS Race at Champéry on 4th Sep 2011\n",
      "could not find match for name: rider\n",
      "SUCCESS Race at Val di Sole on 21st Aug 2011\n",
      "SUCCESS Race at La Bresse on 7th Aug 2011\n",
      "SUCCESS Race at Windham on 10th Jul 2011\n",
      "SUCCESS Race at Mont-Sainte-Anne on 3rd Jul 2011\n",
      "SUCCESS Race at Leogang on 12th Jun 2011\n",
      "SUCCESS Race at Fort William on 5th Jun 2011\n",
      "SUCCESS Race at Pietermaritzburg on 24th Apr 2011\n",
      "could not find match for name: rider\n",
      "SUCCESS Race at Hafjell Bike Park on 16th Sep 2012\n",
      "SUCCESS Race at Leogang on 2nd Sep 2012\n",
      "SUCCESS Race at Val d'Isère on 29th Jul 2012\n",
      "could not find match for name: rider\n",
      "SUCCESS Race at Windham on 1st Jul 2012\n",
      "could not find match for name: rider\n",
      "SUCCESS Race at Mont-Sainte-Anne on 24th Jun 2012\n",
      "could not find match for name: rider\n",
      "could not find match for name: rider\n",
      "SUCCESS Race at Fort William on 10th Jun 2012\n",
      "could not find match for name: rider\n",
      "SUCCESS Race at Val di Sole on 3rd Jun 2012\n",
      "SUCCESS Race at Pietermaritzburg on 18th Mar 2012\n",
      "SUCCESS Race at Leogang on 22nd Sep 2013\n",
      "could not find match for name: rider\n",
      "could not find match for name: rider\n",
      "SUCCESS Race at Hafjell Bike Park on 15th Sep 2013\n",
      "SUCCESS Race at Pietermaritzburg on 1st Sep 2013\n",
      "SUCCESS Race at Mont-Sainte-Anne on 11th Aug 2013\n",
      "SUCCESS Race at Vallnord on 28th Jul 2013\n",
      "could not find match for name: rider\n",
      "SUCCESS Race at Val di Sole on 16th Jun 2013\n",
      "could not find match for name: rider\n",
      "SUCCESS Race at Fort William on 9th Jun 2013\n",
      "could not find match for name: rider\n",
      "SUCCESS Race at Hafjell Bike Park on 7th Sep 2014\n",
      "could not find match for name: rider\n",
      "could not find match for name: rider\n",
      "SUCCESS Race at Méribel on 23rd Aug 2014\n",
      "could not find match for name: rider\n",
      "SUCCESS Race at Windham on 10th Aug 2014\n",
      "could not find match for name: rider\n",
      "SUCCESS Race at Mont-Sainte-Anne on 2nd Aug 2014\n",
      "PROBLEM: Race at Kirchberg on 13th Jul 2014\n"
     ]
    },
    {
     "name": "stderr",
     "output_type": "stream",
     "text": [
      "Traceback (most recent call last):\n",
      "  File \"C:\\Users\\nt78066\\AppData\\Local\\Temp\\ipykernel_11596\\2198857620.py\", line 6, in <module>\n",
      "    one_race=get_race_results(all_races['url'][i],all_races['track_name'][i],all_races['race_country'][i], all_races['Date⇩'][i])\n",
      "  File \"C:\\Users\\nt78066\\AppData\\Local\\Temp\\ipykernel_11596\\590882901.py\", line 36, in get_race_results\n",
      "    tables = pd.read_html(url)\n",
      "  File \"C:\\Users\\nt78066\\anaconda3\\lib\\site-packages\\pandas\\util\\_decorators.py\", line 311, in wrapper\n",
      "    return func(*args, **kwargs)\n",
      "  File \"C:\\Users\\nt78066\\anaconda3\\lib\\site-packages\\pandas\\io\\html.py\", line 1113, in read_html\n",
      "    return _parse(\n",
      "  File \"C:\\Users\\nt78066\\anaconda3\\lib\\site-packages\\pandas\\io\\html.py\", line 939, in _parse\n",
      "    raise retained\n",
      "  File \"C:\\Users\\nt78066\\anaconda3\\lib\\site-packages\\pandas\\io\\html.py\", line 919, in _parse\n",
      "    tables = p.parse_tables()\n",
      "  File \"C:\\Users\\nt78066\\anaconda3\\lib\\site-packages\\pandas\\io\\html.py\", line 239, in parse_tables\n",
      "    tables = self._parse_tables(self._build_doc(), self.match, self.attrs)\n",
      "  File \"C:\\Users\\nt78066\\anaconda3\\lib\\site-packages\\pandas\\io\\html.py\", line 569, in _parse_tables\n",
      "    raise ValueError(\"No tables found\")\n",
      "ValueError: No tables found\n"
     ]
    },
    {
     "name": "stdout",
     "output_type": "stream",
     "text": [
      "SUCCESS Race at Leogang on 15th Jun 2014\n",
      "SUCCESS Race at Fort William on 8th Jun 2014\n",
      "SUCCESS Race at Cairns on 27th Apr 2014\n",
      "SUCCESS Race at Pietermaritzburg on 12th Apr 2014\n",
      "SUCCESS Race at Vallnord on 6th Sep 2015\n",
      "PROBLEM: Race at Innsbruck on 29th Aug 2015\n"
     ]
    },
    {
     "name": "stderr",
     "output_type": "stream",
     "text": [
      "Traceback (most recent call last):\n",
      "  File \"C:\\Users\\nt78066\\AppData\\Local\\Temp\\ipykernel_11596\\2198857620.py\", line 6, in <module>\n",
      "    one_race=get_race_results(all_races['url'][i],all_races['track_name'][i],all_races['race_country'][i], all_races['Date⇩'][i])\n",
      "  File \"C:\\Users\\nt78066\\AppData\\Local\\Temp\\ipykernel_11596\\590882901.py\", line 60, in get_race_results\n",
      "    together['rider_country']=\"\"\n",
      "UnboundLocalError: local variable 'together' referenced before assignment\n"
     ]
    },
    {
     "name": "stdout",
     "output_type": "stream",
     "text": [
      "could not find match for name: rider\n",
      "SUCCESS Race at Val di Sole on 23rd Aug 2015\n",
      "could not find match for name: rider\n",
      "SUCCESS Race at Windham on 8th Aug 2015\n",
      "could not find match for name: rider\n",
      "SUCCESS Race at Mont-Sainte-Anne on 1st Aug 2015\n",
      "could not find match for name: rider\n",
      "SUCCESS Race at Lenzerheide on 5th Jul 2015\n",
      "SUCCESS Race at Leogang on 14th Jun 2015\n",
      "SUCCESS Race at Fort William on 7th Jun 2015\n",
      "could not find match for name: rider\n",
      "SUCCESS Race at Lourdes on 12th Apr 2015\n",
      "SUCCESS Race at Val di Sole on 11th Sep 2016\n",
      "could not find match for name: rider\n",
      "could not find match for name: rider\n",
      "could not find match for name: rider\n",
      "SUCCESS Race at Vallnord on 4th Sep 2016\n",
      "could not find match for name: rider\n",
      "could not find match for name: rider\n",
      "SUCCESS Race at Mont-Sainte-Anne on 6th Aug 2016\n",
      "could not find match for name: rider\n",
      "SUCCESS Race at Lenzerheide on 9th Jul 2016\n",
      "could not find match for name: rider\n",
      "SUCCESS Race at Leogang on 12th Jun 2016\n",
      "could not find match for name: rider\n",
      "SUCCESS Race at Fort William on 5th Jun 2016\n",
      "could not find match for name: rider\n",
      "could not find match for name: rider\n",
      "SUCCESS Race at Cairns on 23rd Apr 2016\n",
      "could not find match for name: rider\n",
      "could not find match for name: rider\n",
      "SUCCESS Race at Lourdes on 10th Apr 2016\n",
      "SUCCESS Race at Cairns on 10th Sep 2017\n",
      "SUCCESS Race at Val di Sole on 26th Aug 2017\n",
      "SUCCESS Race at Mont-Sainte-Anne on 6th Aug 2017\n",
      "could not find match for name: rider\n",
      "could not find match for name: rider\n",
      "SUCCESS Race at Lenzerheide on 9th Jul 2017\n",
      "could not find match for name: rider\n",
      "could not find match for name: rider\n",
      "SUCCESS Race at Vallnord on 2nd Jul 2017\n",
      "could not find match for name: rider\n",
      "SUCCESS Race at Leogang on 11th Jun 2017\n",
      "could not find match for name: rider\n",
      "SUCCESS Race at Fort William on 4th Jun 2017\n",
      "PROBLEM: Race at Windischgarsten on 14th May 2017\n"
     ]
    },
    {
     "name": "stderr",
     "output_type": "stream",
     "text": [
      "Traceback (most recent call last):\n",
      "  File \"C:\\Users\\nt78066\\AppData\\Local\\Temp\\ipykernel_11596\\2198857620.py\", line 6, in <module>\n",
      "    one_race=get_race_results(all_races['url'][i],all_races['track_name'][i],all_races['race_country'][i], all_races['Date⇩'][i])\n",
      "  File \"C:\\Users\\nt78066\\AppData\\Local\\Temp\\ipykernel_11596\\590882901.py\", line 60, in get_race_results\n",
      "    together['rider_country']=\"\"\n",
      "UnboundLocalError: local variable 'together' referenced before assignment\n"
     ]
    },
    {
     "name": "stdout",
     "output_type": "stream",
     "text": [
      "could not find match for name: rider\n",
      "could not find match for name: rider\n",
      "could not find match for name: rider\n",
      "SUCCESS Race at Lourdes on 30th Apr 2017\n",
      "could not find match for name: rider\n",
      "SUCCESS Race at Lenzerheide on 9th Sep 2018\n",
      "could not find match for name: rider\n",
      "SUCCESS Race at La Bresse on 25th Aug 2018\n",
      "could not find match for name: rider\n",
      "SUCCESS Race at Mont-Sainte-Anne on 11th Aug 2018\n",
      "could not find match for name: rider\n",
      "SUCCESS Race at Vallnord on 15th Jul 2018\n",
      "could not find match for name: rider\n",
      "SUCCESS Race at Val di Sole on 7th Jul 2018\n",
      "could not find match for name: rider\n",
      "SUCCESS Race at Leogang on 10th Jun 2018\n",
      "could not find match for name: rider\n",
      "SUCCESS Race at Fort William on 3rd Jun 2018\n",
      "could not find match for name: rider\n",
      "SUCCESS Race at Lošinj on 22nd Apr 2018\n",
      "could not find match for name: rider\n",
      "SUCCESS Race at Snowshoe on 7th Sep 2019\n",
      "SUCCESS Race at Mont-Sainte-Anne on 1st Sep 2019\n",
      "could not find match for name: rider\n",
      "SUCCESS Race at Lenzerheide on 10th Aug 2019\n",
      "could not find match for name: rider\n",
      "could not find match for name: rider\n",
      "SUCCESS Race at Val di Sole on 3rd Aug 2019\n",
      "could not find match for name: rider\n",
      "SUCCESS Race at Les Gets on 14th Jul 2019\n",
      "could not find match for name: rider\n",
      "SUCCESS Race at Vallnord on 7th Jul 2019\n",
      "could not find match for name: rider\n",
      "could not find match for name: rider\n",
      "SUCCESS Race at Leogang on 9th Jun 2019\n",
      "could not find match for name: rider\n",
      "SUCCESS Race at Fort William on 2nd Jun 2019\n",
      "could not find match for name: rider\n",
      "SUCCESS Race at Maribor on 28th Apr 2019\n",
      "SUCCESS Race at Lousã on 1st Nov 2020\n",
      "SUCCESS Race at Lousã on 30th Oct 2020\n",
      "SUCCESS Race at Maribor on 18th Oct 2020\n",
      "SUCCESS Race at Maribor on 16th Oct 2020\n",
      "SUCCESS Race at Leogang on 11th Oct 2020\n",
      "SUCCESS Race at Snowshoe on 18th Sep 2021\n",
      "SUCCESS Race at Snowshoe on 15th Sep 2021\n",
      "SUCCESS Race at Lenzerheide on 4th Sep 2021\n",
      "SUCCESS Race at Val di Sole on 29th Aug 2021\n",
      "SUCCESS Race at Maribor on 15th Aug 2021\n",
      "could not find match for name: rider\n",
      "SUCCESS Race at Les Gets on 4th Jul 2021\n",
      "SUCCESS Race at Leogang on 12th Jun 2021\n",
      "SUCCESS Race at Val di Sole on 3rd Sep 2022\n",
      "SUCCESS Race at Les Gets on 28th Aug 2022\n",
      "could not find match for name: rider\n",
      "could not find match for name: rider\n",
      "SUCCESS Race at Mont-Sainte-Anne on 6th Aug 2022\n",
      "could not find match for name: rider\n",
      "could not find match for name: rider\n",
      "SUCCESS Race at Snowshoe on 30th Jul 2022\n",
      "could not find match for name: rider\n",
      "SUCCESS Race at Vallnord on 16th Jul 2022\n",
      "could not find match for name: rider\n",
      "could not find match for name: rider\n",
      "SUCCESS Race at Lenzerheide on 9th Jul 2022\n",
      "could not find match for name: rider\n",
      "could not find match for name: rider\n",
      "SUCCESS Race at Leogang on 11th Jun 2022\n",
      "SUCCESS Race at Fort William on 22nd May 2022\n",
      "SUCCESS Race at Lourdes on 27th Mar 2022\n"
     ]
    }
   ],
   "source": [
    "all_race_data=pd.DataFrame()\n",
    "#220\n",
    "\n",
    "for i in range(220):\n",
    "    try:\n",
    "        one_race=get_race_results(all_races['url'][i],all_races['track_name'][i],all_races['race_country'][i], all_races['Date⇩'][i])\n",
    "        all_race_data=pd.concat([all_race_data,one_race],axis=0)\n",
    "        print(\"SUCCESS\",\"Race at\", all_races['track_name'][i], \"on\", all_races['Date⇩'][i])\n",
    "    except:\n",
    "        print(\"PROBLEM: Race at\", all_races['track_name'][i], \"on\", all_races['Date⇩'][i])\n",
    "        traceback.print_exc()\n"
   ]
  },
  {
   "cell_type": "markdown",
   "id": "d8b5d196",
   "metadata": {},
   "source": [
    "How many results did we get?"
   ]
  },
  {
   "cell_type": "code",
   "execution_count": 190,
   "id": "db2d747c",
   "metadata": {},
   "outputs": [
    {
     "data": {
      "text/plain": [
       "(32983, 7)"
      ]
     },
     "execution_count": 190,
     "metadata": {},
     "output_type": "execute_result"
    }
   ],
   "source": [
    "all_race_data.shape"
   ]
  },
  {
   "cell_type": "markdown",
   "id": "06d92a2c",
   "metadata": {},
   "source": [
    "Exporting just the countries - this gets used to help find rider countries in the above script"
   ]
  },
  {
   "cell_type": "code",
   "execution_count": 253,
   "id": "44a6be8f",
   "metadata": {},
   "outputs": [],
   "source": [
    "countries=pd.DataFrame(all_race_data['rider_country'].unique())\n",
    "countries.to_csv('data/nationalities.csv') "
   ]
  },
  {
   "cell_type": "markdown",
   "id": "67ec5b1d",
   "metadata": {},
   "source": [
    "exporting file"
   ]
  },
  {
   "cell_type": "code",
   "execution_count": 11,
   "id": "76a7a4f6",
   "metadata": {},
   "outputs": [],
   "source": [
    "all_race_data.to_csv('data/race_results.csv') "
   ]
  }
 ],
 "metadata": {
  "kernelspec": {
   "display_name": "Python 3 (ipykernel)",
   "language": "python",
   "name": "python3"
  },
  "language_info": {
   "codemirror_mode": {
    "name": "ipython",
    "version": 3
   },
   "file_extension": ".py",
   "mimetype": "text/x-python",
   "name": "python",
   "nbconvert_exporter": "python",
   "pygments_lexer": "ipython3",
   "version": "3.9.13"
  }
 },
 "nbformat": 4,
 "nbformat_minor": 5
}
